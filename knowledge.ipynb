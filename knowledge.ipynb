{
 "cells": [
  {
   "attachments": {},
   "cell_type": "markdown",
   "metadata": {},
   "source": [
    "# Regression \n",
    "It's the term used when you try to find the relationship between variables. \n",
    "\n",
    "Is a statistical method used to investigate the relationship between two or more variables. Specifically, it is used to predict the value of a variable (dependant variable) based on the values of one or more other variables (independent variables)\n",
    "\n",
    "A regression model is able to show whether changes observed in the dependent variable are associated with changes in one or more of the explanatory variables.\n",
    "\n",
    "The most common type of regression analysis is Linear Regression, in which you find the line that most closely fits the data according to a specific mathematical criterion. \n",
    "\n",
    "For example, the method of ordinary least squares computes the unique line or hyperplane that minimizes the sum of squared differences between the true data and that line or hyperplane\n",
    "\n",
    "Regression analysis is primarly used for two purposes:\n",
    " - For prediction and forecasting, where it can be helpful in the field of machine learning. \n",
    " - It is also used to infer causal relationships between the independent and dependend variables. \n",
    "\n",
    "## Linear Regression\n",
    "Its an approach for modelling the relationship between a scalar response and one or more explanatory variables (dependent and independent variables). <br>\n",
    " - The case of one independent and one dependent variable is called simple linear regression. <br>\n",
    " - For more than one, the process is called multiple linear regression. <br>\n",
    " - For multiple correlated dependent variables its called multivariate linear regression. \n",
    "\n",
    "\n",
    "## Simple Linear Regression\n",
    "Simple linear regression is a linear regression model with a single explanatory variable. <br>\n",
    "It find a linear function that, as accurately as possible, predicts the dependent variable values as a function of the independent variable. \n",
    "\n",
    "The ordinary least squares (OLS) method is usually used, altough, other regression methods that can be used are: Least Absolute Deviation and the Theil-Sen estimator. \n",
    "\n",
    "\n",
    "## Formulae using Least Squares\n",
    "\n",
    "**Simple Linear Regression** <br>\n",
    "$f(x) = \\beta_0 + \\beta_1x + u$ <br>\n",
    "\n",
    "**Multiple Linear Regression** <br>\n",
    "In a model with $r$ explanatory variables: \n",
    "\n",
    "$f(x) = b_0 + \\sum_{i=1}^{r}{\\beta_ix_r} + u$<br>\n",
    "\n",
    "\n",
    "where: <br>\n",
    "- $f(x) = $ The estimated or predicted response. \n",
    "- $x = $ The explanatory (independent) variable(s) you're using to predict.\n",
    "- $\\beta_0 = $ The y-intercept (the value of $Y$ when all the independent variables are 0)\n",
    "- $\\beta_r = $ (beta coefficient) is the slope of the explanatory variable(s)\n",
    "- $u = $ The regression residual or error term.\n",
    "\n",
    "**Beta coefficient calculation for one explanatory variable**<br>\n",
    "\n",
    "$\\beta_1 = \\frac{ \\sum_{i=1}^{n} {(x_i - \\bar{x})(y_i - \\bar{y}) } }{ \\sum_{i=1}^{n} {(x_i - \\bar{x})}}$\n",
    "\n",
    "\n",
    "## Example in python"
   ]
  },
  {
   "cell_type": "code",
   "execution_count": 26,
   "metadata": {},
   "outputs": [
    {
     "name": "stdout",
     "output_type": "stream",
     "text": [
      "[0.4, 1.4, 2.4, 3.4, 4.4]\n"
     ]
    },
    {
     "data": {
      "image/png": "[encoded data removed]",
      "text/plain": [
       "<Figure size 640x480 with 1 Axes>"
      ]
     },
     "metadata": {},
     "output_type": "display_data"
    }
   ],
   "source": [
    "import matplotlib.pyplot as plt\n",
    "from scipy import stats\n",
    "import numpy as np\n",
    "\n",
    "x = np.array([1, 2, 3, 4, 5])\n",
    "y = np.array([2, 4, 5, 4, 5])\n",
    "\n",
    "import numpy as np\n",
    "\n",
    "def calculate_b1(x, y):\n",
    "    n = len(x)\n",
    "    x_mean = np.mean(x)\n",
    "    y_mean = np.mean(y)\n",
    "    numerator = np.sum((x - x_mean) * (y - y_mean))\n",
    "    denominator = np.sum((x - x_mean) ** 2)\n",
    "    b_1 = numerator / denominator\n",
    "    return b_1\n",
    "\n",
    "\n",
    "b_1 = calculate_b1(x, y)\n",
    "\n",
    "my_line = [i - b_1 for i in x]\n",
    "\n",
    "print(my_line)\n",
    "plt.scatter(x, y)\n",
    "plt.plot(my_line)\n",
    "\n",
    "plt.show()\n",
    "\n",
    "\n"
   ]
  },
  {
   "attachments": {},
   "cell_type": "markdown",
   "metadata": {},
   "source": [
    "# Introduction, Convexivity & Gradient Descend\n",
    "## Analysis Refresher\n",
    "### Derivatives in One Dimension\n",
    "### Gradient and Partial Derivatives\n",
    "### The Hessian Matrix\n",
    "\n",
    "## Convexity\n",
    "### Convexivity of Sets\n",
    "### Convexivity of Functions\n",
    "### Subgradient and Subdifferential\n",
    "### Structured Convex Programming\n",
    "### Convexivity Quiz I \n",
    "### Convexivity Quiz II \n",
    "\n",
    "## Gradient Descent \n",
    "### Direction of Steepest Descent \n",
    "### Gradient Descent\n",
    "### Backtracking Line Search\n",
    "### model Fitting: Empirical Risk Minimization\n",
    "### Minimize the difference between predictions and observations\n"
   ]
  }
 ],
 "metadata": {
  "kernelspec": {
   "display_name": "base",
   "language": "python",
   "name": "python3"
  },
  "language_info": {
   "name": "python",
   "version": "3.9.13"
  },
  "orig_nbformat": 4
 },
 "nbformat": 4,
 "nbformat_minor": 2
}
