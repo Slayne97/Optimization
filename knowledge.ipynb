{
 "cells": [
  {
   "attachments": {},
   "cell_type": "markdown",
   "metadata": {},
   "source": [
    "# Introduction, Convexivity & Gradient Descend\n",
    "## Analysis Refresher\n",
    "### Derivatives in One Dimension\n",
    "### Gradient and Partial Derivatives\n",
    "### The Hessian Matrix\n",
    "\n",
    "## Convexity\n",
    "### Convexivity of Sets\n",
    "### Convexivity of Functions\n",
    "### Subgradient and Subdifferential\n",
    "### Structured Convex Programming\n",
    "### Convexivity Quiz I \n",
    "### Convexivity Quiz II \n",
    "\n",
    "## Gradient Descent \n",
    "### Direction of Steepest Descent \n",
    "### Gradient Descent\n",
    "### Backtracking Line Search\n",
    "### model Fitting: Empirical Risk Minimization\n",
    "### Minimize the difference between predictions and observations\n"
   ]
  },
  {
   "cell_type": "code",
   "execution_count": null,
   "metadata": {},
   "outputs": [],
   "source": []
  }
 ],
 "metadata": {
  "language_info": {
   "name": "python"
  },
  "orig_nbformat": 4
 },
 "nbformat": 4,
 "nbformat_minor": 2
}
